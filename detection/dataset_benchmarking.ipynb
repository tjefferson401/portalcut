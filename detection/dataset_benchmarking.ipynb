{
 "cells": [
  {
   "cell_type": "code",
   "execution_count": 9,
   "metadata": {},
   "outputs": [],
   "source": [
    "# from detection.custom_engine import train_model\n",
    "from data_utils import get_augmented_datamodules, get_transform, get_datamodules\n",
    "from datasets import KittiTorch,  KittiAugmentedV2M, KittiAugmentedV3\n",
    "from custom_engine import reset_environment, train_model\n",
    "from configs import kitti_class_list\n",
    "\n",
    "\n",
    "# reset_environment()\n",
    "\n",
    "from configs import model_configs, epochs_list\n",
    "from models import get_model\n",
    "\n",
    "config = model_configs[0]\n",
    "\n",
    "original_dataset = KittiTorch(root='../data', download=True, transform=get_transform())\n",
    "KittiAugmentedV2M_dataset = KittiAugmentedV2M(root='../data', download=True, transform=get_transform())\n",
    "KittiAugmentedV3_dataset = KittiAugmentedV3(root='../data', download=True, transform=get_transform())\n"
   ]
  },
  {
   "cell_type": "code",
   "execution_count": 4,
   "metadata": {},
   "outputs": [
    {
     "data": {
      "text/plain": [
       "(tensor([[[0.0275, 0.0275, 0.0235,  ..., 0.0275, 0.0275, 0.0235],\n",
       "          [0.0275, 0.0275, 0.0235,  ..., 0.0235, 0.0235, 0.0275],\n",
       "          [0.0235, 0.0235, 0.0275,  ..., 0.0314, 0.0314, 0.0353],\n",
       "          ...,\n",
       "          [0.2549, 0.2353, 0.2510,  ..., 0.0863, 0.0941, 0.1059],\n",
       "          [0.2275, 0.2275, 0.2588,  ..., 0.0824, 0.0745, 0.0667],\n",
       "          [0.2510, 0.2588, 0.2588,  ..., 0.0588, 0.0588, 0.0588]],\n",
       " \n",
       "         [[0.0275, 0.0275, 0.0235,  ..., 0.0353, 0.0314, 0.0235],\n",
       "          [0.0275, 0.0275, 0.0275,  ..., 0.0314, 0.0314, 0.0314],\n",
       "          [0.0235, 0.0235, 0.0235,  ..., 0.0353, 0.0353, 0.0392],\n",
       "          ...,\n",
       "          [0.2667, 0.2549, 0.2549,  ..., 0.0980, 0.0980, 0.1020],\n",
       "          [0.2510, 0.2431, 0.2549,  ..., 0.0588, 0.0588, 0.0588],\n",
       "          [0.2471, 0.2431, 0.2667,  ..., 0.0588, 0.0549, 0.0510]],\n",
       " \n",
       "         [[0.0275, 0.0235, 0.0235,  ..., 0.0353, 0.0275, 0.0275],\n",
       "          [0.0196, 0.0235, 0.0235,  ..., 0.0353, 0.0392, 0.0392],\n",
       "          [0.0196, 0.0235, 0.0235,  ..., 0.0510, 0.0627, 0.0588],\n",
       "          ...,\n",
       "          [0.2706, 0.2627, 0.2549,  ..., 0.1333, 0.1333, 0.1294],\n",
       "          [0.2588, 0.2784, 0.2863,  ..., 0.0706, 0.0745, 0.0824],\n",
       "          [0.2627, 0.2824, 0.2863,  ..., 0.0745, 0.0706, 0.0627]]]),\n",
       " {'boxes': tensor([[601.9600, 177.0100, 659.1500, 229.5100],\n",
       "          [600.1400, 177.0900, 624.6500, 193.3100],\n",
       "          [574.9800, 178.6400, 598.4500, 194.0100],\n",
       "          [710.6000, 167.7300, 736.6800, 182.3500],\n",
       "          [758.5200, 156.2700, 782.5200, 179.2300]]),\n",
       "  'labels': tensor([1, 1, 1, 9, 9])})"
      ]
     },
     "execution_count": 4,
     "metadata": {},
     "output_type": "execute_result"
    }
   ],
   "source": [
    "original_dataset[9]"
   ]
  },
  {
   "cell_type": "code",
   "execution_count": 16,
   "metadata": {},
   "outputs": [
    {
     "name": "stderr",
     "output_type": "stream",
     "text": [
      "  0%|          | 0/7481 [00:00<?, ?it/s]\n"
     ]
    },
    {
     "ename": "AttributeError",
     "evalue": "'str' object has no attribute 'item'",
     "output_type": "error",
     "traceback": [
      "\u001b[0;31m---------------------------------------------------------------------------\u001b[0m",
      "\u001b[0;31mAttributeError\u001b[0m                            Traceback (most recent call last)",
      "Cell \u001b[0;32mIn[16], line 48\u001b[0m\n\u001b[1;32m     45\u001b[0m                 classes[kitti_class_list[label\u001b[38;5;241m.\u001b[39mitem()]] \u001b[38;5;241m=\u001b[39m \u001b[38;5;241m1\u001b[39m\n\u001b[1;32m     46\u001b[0m     pp\u001b[38;5;241m.\u001b[39mpprint(classes)\n\u001b[0;32m---> 48\u001b[0m \u001b[43mcount_classes\u001b[49m\u001b[43m(\u001b[49m\u001b[43moriginal_dataset\u001b[49m\u001b[43m)\u001b[49m\n\u001b[1;32m     49\u001b[0m count_classes(KittiAugmentedV2M_dataset)\n\u001b[1;32m     50\u001b[0m count_classes(KittiAugmentedV3_dataset)\n",
      "Cell \u001b[0;32mIn[16], line 45\u001b[0m, in \u001b[0;36mcount_classes\u001b[0;34m(dataset)\u001b[0m\n\u001b[1;32m     43\u001b[0m             classes[kitti_class_list[label\u001b[38;5;241m.\u001b[39mitem()]] \u001b[38;5;241m+\u001b[39m\u001b[38;5;241m=\u001b[39m \u001b[38;5;241m1\u001b[39m\n\u001b[1;32m     44\u001b[0m         \u001b[38;5;28;01melse\u001b[39;00m:\n\u001b[0;32m---> 45\u001b[0m             classes[kitti_class_list[\u001b[43mlabel\u001b[49m\u001b[38;5;241;43m.\u001b[39;49m\u001b[43mitem\u001b[49m()]] \u001b[38;5;241m=\u001b[39m \u001b[38;5;241m1\u001b[39m\n\u001b[1;32m     46\u001b[0m pp\u001b[38;5;241m.\u001b[39mpprint(classes)\n",
      "\u001b[0;31mAttributeError\u001b[0m: 'str' object has no attribute 'item'"
     ]
    }
   ],
   "source": [
    "\"\"\"\n",
    "\n",
    "(tensor([[[0.0667, 0.0627, 0.0980,  ..., 0.1451, 0.1373, 0.1412],\n",
    "          [0.0667, 0.0549, 0.0941,  ..., 0.1451, 0.1373, 0.1373],\n",
    "          [0.0667, 0.0706, 0.0706,  ..., 0.1333, 0.1255, 0.1176],\n",
    "          ...,\n",
    "          [0.0745, 0.0667, 0.0627,  ..., 0.0941, 0.0784, 0.0784],\n",
    "          [0.0471, 0.0471, 0.0549,  ..., 0.0784, 0.0824, 0.0824],\n",
    "          [0.0510, 0.0549, 0.0549,  ..., 0.0863, 0.0863, 0.0784]],\n",
    " \n",
    "         [[0.0863, 0.0941, 0.1137,  ..., 0.1137, 0.0941, 0.0667],\n",
    "          [0.0745, 0.0902, 0.1098,  ..., 0.1137, 0.0980, 0.0706],\n",
    "          [0.0627, 0.0627, 0.0824,  ..., 0.1137, 0.0902, 0.0667],\n",
    "          ...,\n",
    "          [0.0902, 0.0863, 0.0863,  ..., 0.0980, 0.1020, 0.1059],\n",
    "          [0.0824, 0.0745, 0.0706,  ..., 0.0980, 0.0980, 0.1059],\n",
    "          [0.0784, 0.0706, 0.0667,  ..., 0.1176, 0.1137, 0.1176]],\n",
    " \n",
    "         [[0.0706, 0.1098, 0.1294,  ..., 0.0902, 0.0824, 0.0588],\n",
    "          [0.0627, 0.0784, 0.0941,  ..., 0.0980, 0.0824, 0.0549],\n",
    "          [0.0627, 0.0745, 0.0824,  ..., 0.1059, 0.0863, 0.0549],\n",
    "          ...,\n",
    "          [0.1098, 0.1098, 0.1098,  ..., 0.1255, 0.1255, 0.1216],\n",
    "          [0.1098, 0.0980, 0.0941,  ..., 0.1294, 0.1255, 0.1176],\n",
    "          [0.0902, 0.0706, 0.0745,  ..., 0.1451, 0.1490, 0.1373]]]),\n",
    " {'boxes': tensor([[712.4000, 143.0000, 810.7300, 307.9200]]),\n",
    "  'labels': tensor([4])})\n",
    "\n",
    "\"\"\"\n",
    "import pprint as pp\n",
    "from tqdm.auto import tqdm\n",
    "# Write a function that counts the number of each class in the dataset and prints it, and use the labels dictionary to print it by going through all the elmements in the dataset\n",
    "# there is an example output given above\n",
    "\n",
    "\n",
    "def count_classes(dataset):\n",
    "    classes = {}\n",
    "    for i in tqdm(range(len(dataset))):\n",
    "        labels = dataset[i][1]['labels']\n",
    "        for label in labels:\n",
    "            label = kitti_class_list[label.item()]\n",
    "            if label in classes:\n",
    "                classes[label] += 1\n",
    "            else:\n",
    "                classes[label] = 1\n",
    "    pp.pprint(classes)\n",
    "    \n",
    "count_classes(original_dataset)\n",
    "count_classes(KittiAugmentedV2M_dataset)\n",
    "count_classes(KittiAugmentedV3_dataset)\n"
   ]
  },
  {
   "cell_type": "code",
   "execution_count": null,
   "metadata": {},
   "outputs": [],
   "source": []
  }
 ],
 "metadata": {
  "kernelspec": {
   "display_name": ".venv",
   "language": "python",
   "name": "python3"
  },
  "language_info": {
   "codemirror_mode": {
    "name": "ipython",
    "version": 3
   },
   "file_extension": ".py",
   "mimetype": "text/x-python",
   "name": "python",
   "nbconvert_exporter": "python",
   "pygments_lexer": "ipython3",
   "version": "3.12.3"
  }
 },
 "nbformat": 4,
 "nbformat_minor": 2
}
