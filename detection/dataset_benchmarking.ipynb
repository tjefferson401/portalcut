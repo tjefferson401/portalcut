{
 "cells": [
  {
   "cell_type": "code",
   "execution_count": null,
   "metadata": {},
   "outputs": [],
   "source": [
    "# from detection.custom_engine import train_model\n",
    "from data_utils import get_augmented_datamodules, get_transform, get_datamodules\n",
    "from datasets import KittiTorch, KittiAugmentedV1, KittiAugmentedV2M, KittiAugmentedV3\n",
    "from custom_engine import reset_environment, train_model\n",
    "\n",
    "\n",
    "# reset_environment()\n",
    "\n",
    "from configs import model_configs, epochs_list\n",
    "from models import get_model\n",
    "\n",
    "config = model_configs[0]\n",
    "\n",
    "\n",
    "dataset = KittiAugmentedV1(root='../data', download=True, transform=get_transform())\n",
    "\n"
   ]
  }
 ],
 "metadata": {
  "language_info": {
   "name": "python"
  }
 },
 "nbformat": 4,
 "nbformat_minor": 2
}
