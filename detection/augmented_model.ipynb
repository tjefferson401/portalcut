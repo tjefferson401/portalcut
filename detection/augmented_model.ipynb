{
 "cells": [
  {
   "cell_type": "code",
   "execution_count": 1,
   "metadata": {},
   "outputs": [
    {
     "name": "stdout",
     "output_type": "stream",
     "text": [
      "7481\n"
     ]
    },
    {
     "name": "stderr",
     "output_type": "stream",
     "text": [
      "/data/stanford/portalcut/.venv/lib/python3.12/site-packages/tqdm/auto.py:21: TqdmWarning: IProgress not found. Please update jupyter and ipywidgets. See https://ipywidgets.readthedocs.io/en/stable/user_install.html\n",
      "  from .autonotebook import tqdm as notebook_tqdm\n"
     ]
    }
   ],
   "source": [
    "# from detection.custom_engine import train_model\n",
    "from data_utils import get_augmented_datamodules, get_transform, get_datamodules, get_reduced_datamodules, get_augmented_reduced_datamodules\n",
    "from datasets import KittiTorch, KittiAugmentedV1, KittiAugmentedV2M, KittiAugmentedV2B\n",
    "from custom_engine import reset_environment, train_model\n",
    "\n",
    "\n",
    "# reset_environment()\n",
    "\n",
    "from configs import dataset_configs, epochs_list, kitti_class_list\n",
    "from models import get_model\n",
    "\n",
    "from tqdm.auto import tqdm\n",
    "\n",
    "\n",
    "\n",
    "original_dataset = KittiTorch(root='../data', download=True, transform=get_transform())\n",
    "KittiAugmentedV1_dataset = KittiAugmentedV1(root='../data', download=True, transform=get_transform())\n",
    "KittiAugmentedV2M_dataset = KittiAugmentedV2M(root='../data', download=True, transform=get_transform())\n",
    "KittiAugmentedV2B_dataset = KittiAugmentedV2B(root='../data', download=True, transform=get_transform())                                                       \n",
    "                                                        \n",
    "print(len(original_dataset))\n",
    "# original_dataset[0]"
   ]
  },
  {
   "cell_type": "code",
   "execution_count": 2,
   "metadata": {},
   "outputs": [],
   "source": [
    "# \"\"\"\n",
    "# Example output\n",
    "# (tensor([[[0.0667, 0.0627, 0.0980,  ..., 0.1451, 0.1373, 0.1412],\n",
    "#           [0.0667, 0.0549, 0.0941,  ..., 0.1451, 0.1373, 0.1373],\n",
    "#           [0.0667, 0.0706, 0.0706,  ..., 0.1333, 0.1255, 0.1176],\n",
    "#           ...,\n",
    "#           [0.0745, 0.0667, 0.0627,  ..., 0.0941, 0.0784, 0.0784],\n",
    "#           [0.0471, 0.0471, 0.0549,  ..., 0.0784, 0.0824, 0.0824],\n",
    "#           [0.0510, 0.0549, 0.0549,  ..., 0.0863, 0.0863, 0.0784]],\n",
    " \n",
    "#          [[0.0863, 0.0941, 0.1137,  ..., 0.1137, 0.0941, 0.0667],\n",
    "#           [0.0745, 0.0902, 0.1098,  ..., 0.1137, 0.0980, 0.0706],\n",
    "#           [0.0627, 0.0627, 0.0824,  ..., 0.1137, 0.0902, 0.0667],\n",
    "#           ...,\n",
    "#           [0.0902, 0.0863, 0.0863,  ..., 0.0980, 0.1020, 0.1059],\n",
    "#           [0.0824, 0.0745, 0.0706,  ..., 0.0980, 0.0980, 0.1059],\n",
    "#           [0.0784, 0.0706, 0.0667,  ..., 0.1176, 0.1137, 0.1176]],\n",
    " \n",
    "#          [[0.0706, 0.1098, 0.1294,  ..., 0.0902, 0.0824, 0.0588],\n",
    "#           [0.0627, 0.0784, 0.0941,  ..., 0.0980, 0.0824, 0.0549],\n",
    "#           [0.0627, 0.0745, 0.0824,  ..., 0.1059, 0.0863, 0.0549],\n",
    "#           ...,\n",
    "#           [0.1098, 0.1098, 0.1098,  ..., 0.1255, 0.1255, 0.1216],\n",
    "#           [0.1098, 0.0980, 0.0941,  ..., 0.1294, 0.1255, 0.1176],\n",
    "#           [0.0902, 0.0706, 0.0745,  ..., 0.1451, 0.1490, 0.1373]]]),\n",
    "#  {'boxes': tensor([[712.4000, 143.0000, 810.7300, 307.9200]]),\n",
    "#   'labels': tensor([4])})\n",
    "# \"\"\"\n",
    "\n",
    "\n",
    "# original_dataset_count_dictionary = {}\n",
    "# dataset_count_dictionary = {}\n",
    "\n",
    "# for i in tqdm(range(len(original_dataset))):\n",
    "#     _, target = original_dataset[i]\n",
    "#     label = target['labels'][0].item()\n",
    "#     if label not in original_dataset_count_dictionary:\n",
    "#         original_dataset_count_dictionary[label] = 0\n",
    "#     original_dataset_count_dictionary[label] += 1\n",
    "    "
   ]
  },
  {
   "cell_type": "code",
   "execution_count": 3,
   "metadata": {},
   "outputs": [],
   "source": [
    "epochs_list = [5, 10]\n",
    "\n",
    "model_configs = [\n",
    "    {'name': 'fasterrcnn_mobilenet_v3_large_320_fpn', \n",
    "     'pretrained': True,\n",
    "     'freeze_layers': False,\n",
    "     'batch_size': 4,\n",
    "     'dataset': 'kitti_reduced_50_augmented_v2m',\n",
    "     'dataset_config': dataset_configs['kitti'],\n",
    "     },\n",
    "    \n",
    "    {'name': 'fasterrcnn_mobilenet_v3_large_320_fpn', \n",
    "     'pretrained': False,\n",
    "     'freeze_layers': False,\n",
    "     'batch_size': 4,\n",
    "     'dataset': 'kitti_reduced_50_augmented_v2m',\n",
    "     'dataset_config': dataset_configs['kitti'],\n",
    "     },\n",
    "\n",
    "     {'name': 'fasterrcnn_resnet50_fpn', \n",
    "     'pretrained': True, \n",
    "     'freeze_layers': False,\n",
    "     'batch_size': 4,\n",
    "     'dataset': 'kitti_reduced_50_augmented_v2m',\n",
    "     'dataset_config': dataset_configs['kitti'],\n",
    "     },\n",
    "    {'name': 'fasterrcnn_resnet50_fpn', \n",
    "     'pretrained': False, \n",
    "     'freeze_layers': False,\n",
    "     'batch_size': 4,\n",
    "     'dataset': 'kitti_reduced_50_augmented_v2m',\n",
    "     'dataset_config': dataset_configs['kitti'],\n",
    "     },\n",
    "    \n",
    "    {'name': 'fasterrcnn_resnet50_fpn_v2', \n",
    "     'pretrained': True, \n",
    "     'freeze_layers': False,\n",
    "     'batch_size': 4,\n",
    "     'dataset': 'kitti_reduced_50_augmented_v2m',\n",
    "     'dataset_config': dataset_configs['kitti'],\n",
    "     },\n",
    "    {'name': 'fasterrcnn_resnet50_fpn_v2', \n",
    "     'pretrained': False, \n",
    "     'freeze_layers': False,\n",
    "     'batch_size': 4,\n",
    "     'dataset': 'kitti_reduced_50_augmented_v2m',\n",
    "     'dataset_config': dataset_configs['kitti'],\n",
    "     },\n",
    "    \n",
    "    {'name': 'fasterrcnn_mobilenet_v3_large_fpn', \n",
    "     'pretrained': True, \n",
    "     'freeze_layers': False,\n",
    "     'batch_size': 4,\n",
    "     'dataset': 'kitti_reduced_50_augmented_v2m',\n",
    "     'dataset_config': dataset_configs['kitti'],\n",
    "     },\n",
    "    {'name': 'fasterrcnn_mobilenet_v3_large_fpn', \n",
    "     'pretrained': False, \n",
    "     'freeze_layers': False,\n",
    "     'batch_size': 4,\n",
    "     'dataset': 'kitti_reduced_50_augmented_v2m',\n",
    "     'dataset_config': dataset_configs['kitti'],\n",
    "     },\n",
    "]"
   ]
  },
  {
   "cell_type": "code",
   "execution_count": 4,
   "metadata": {},
   "outputs": [],
   "source": [
    "# Setup a random seed for reproducibility\n",
    "import random\n",
    "import torch\n",
    "import numpy as np\n",
    "\n",
    "seed = 42\n",
    "random.seed(seed)\n",
    "torch.manual_seed(seed)\n",
    "np.random.seed(seed)\n"
   ]
  },
  {
   "cell_type": "code",
   "execution_count": 5,
   "metadata": {},
   "outputs": [
    {
     "name": "stdout",
     "output_type": "stream",
     "text": [
      "7481\n",
      "7481\n",
      "2992 748 749\n"
     ]
    }
   ],
   "source": [
    "train_dataset, val_dataset, test_dataset, train_dataloader, val_dataloader, test_dataloader = get_augmented_reduced_datamodules(original_dataset, batch_size=model_configs[0]['batch_size'], original_data_percentage=0.5)\n",
    "\n",
    "datasets = (train_dataset, val_dataset, test_dataset)\n",
    "dataloaders = (train_dataloader, val_dataloader, test_dataloader)\n",
    "\n",
    "print(len(train_dataset), len(val_dataset), len(test_dataset))"
   ]
  },
  {
   "cell_type": "code",
   "execution_count": 6,
   "metadata": {},
   "outputs": [],
   "source": [
    "# model = get_model(config)\n",
    "\n",
    "# model = train_model(model, dataloaders, datasets, 5, config, learning_rate=0.001)"
   ]
  }
 ],
 "metadata": {
  "kernelspec": {
   "display_name": ".venv",
   "language": "python",
   "name": "python3"
  },
  "language_info": {
   "codemirror_mode": {
    "name": "ipython",
    "version": 3
   },
   "file_extension": ".py",
   "mimetype": "text/x-python",
   "name": "python",
   "nbconvert_exporter": "python",
   "pygments_lexer": "ipython3",
   "version": "3.12.3"
  }
 },
 "nbformat": 4,
 "nbformat_minor": 2
}
