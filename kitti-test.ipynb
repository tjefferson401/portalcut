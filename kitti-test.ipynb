{
 "cells": [
  {
   "cell_type": "code",
   "execution_count": 1,
   "metadata": {},
   "outputs": [
    {
     "name": "stdout",
     "output_type": "stream",
     "text": [
      "/Users/sazzad14/Documents/Stanford/CS-231N/portalcut\n"
     ]
    }
   ],
   "source": [
    "import os\n",
    "print(os.getcwd())"
   ]
  },
  {
   "cell_type": "code",
   "execution_count": 2,
   "metadata": {},
   "outputs": [],
   "source": [
    "import os\n",
    "import pandas as pd\n",
    "\n",
    "def parse_kitti_labels(label_dir):\n",
    "    annotations = []\n",
    "    for label_file in os.listdir(label_dir):\n",
    "        if label_file.endswith('.txt'):\n",
    "            with open(os.path.join(label_dir, label_file)) as f:\n",
    "                for line in f.readlines():\n",
    "                    elements = line.strip().split()\n",
    "                    annotations.append({\n",
    "                        'filename': label_file.replace('.txt', '.png'),\n",
    "                        'class': elements[0],\n",
    "                        'bbox': [float(elements[4]), float(elements[5]), float(elements[6]), float(elements[7])]\n",
    "                    })\n",
    "    return pd.DataFrame(annotations)\n",
    "\n",
    "label_dir = 'datasets/KITTI/training/label_2'\n",
    "annotations = parse_kitti_labels(label_dir)\n",
    "annotations.to_csv('kitti_annotations.csv', index=False)\n"
   ]
  },
  {
   "cell_type": "code",
   "execution_count": 5,
   "metadata": {},
   "outputs": [
    {
     "data": {
      "text/html": [
       "<div>\n",
       "<style scoped>\n",
       "    .dataframe tbody tr th:only-of-type {\n",
       "        vertical-align: middle;\n",
       "    }\n",
       "\n",
       "    .dataframe tbody tr th {\n",
       "        vertical-align: top;\n",
       "    }\n",
       "\n",
       "    .dataframe thead th {\n",
       "        text-align: right;\n",
       "    }\n",
       "</style>\n",
       "<table border=\"1\" class=\"dataframe\">\n",
       "  <thead>\n",
       "    <tr style=\"text-align: right;\">\n",
       "      <th></th>\n",
       "      <th>filename</th>\n",
       "      <th>class</th>\n",
       "      <th>bbox</th>\n",
       "    </tr>\n",
       "  </thead>\n",
       "  <tbody>\n",
       "    <tr>\n",
       "      <th>0</th>\n",
       "      <td>006145.png</td>\n",
       "      <td>Car</td>\n",
       "      <td>[595.09, 177.15, 637.82, 217.56]</td>\n",
       "    </tr>\n",
       "    <tr>\n",
       "      <th>1</th>\n",
       "      <td>006145.png</td>\n",
       "      <td>Car</td>\n",
       "      <td>[0.0, 185.06, 198.62, 277.08]</td>\n",
       "    </tr>\n",
       "    <tr>\n",
       "      <th>2</th>\n",
       "      <td>006145.png</td>\n",
       "      <td>Car</td>\n",
       "      <td>[812.56, 169.04, 1023.51, 293.58]</td>\n",
       "    </tr>\n",
       "    <tr>\n",
       "      <th>3</th>\n",
       "      <td>006145.png</td>\n",
       "      <td>Car</td>\n",
       "      <td>[764.98, 172.7, 947.97, 261.04]</td>\n",
       "    </tr>\n",
       "    <tr>\n",
       "      <th>4</th>\n",
       "      <td>006145.png</td>\n",
       "      <td>Car</td>\n",
       "      <td>[708.54, 177.97, 852.27, 243.88]</td>\n",
       "    </tr>\n",
       "    <tr>\n",
       "      <th>...</th>\n",
       "      <td>...</td>\n",
       "      <td>...</td>\n",
       "      <td>...</td>\n",
       "    </tr>\n",
       "    <tr>\n",
       "      <th>51860</th>\n",
       "      <td>001633.png</td>\n",
       "      <td>Car</td>\n",
       "      <td>[0.0, 181.72, 246.84, 274.75]</td>\n",
       "    </tr>\n",
       "    <tr>\n",
       "      <th>51861</th>\n",
       "      <td>001633.png</td>\n",
       "      <td>Car</td>\n",
       "      <td>[78.07, 181.92, 288.68, 255.62]</td>\n",
       "    </tr>\n",
       "    <tr>\n",
       "      <th>51862</th>\n",
       "      <td>001633.png</td>\n",
       "      <td>Car</td>\n",
       "      <td>[149.73, 170.29, 321.46, 242.46]</td>\n",
       "    </tr>\n",
       "    <tr>\n",
       "      <th>51863</th>\n",
       "      <td>001633.png</td>\n",
       "      <td>Car</td>\n",
       "      <td>[488.45, 179.28, 540.52, 217.39]</td>\n",
       "    </tr>\n",
       "    <tr>\n",
       "      <th>51864</th>\n",
       "      <td>001633.png</td>\n",
       "      <td>DontCare</td>\n",
       "      <td>[376.3, 169.53, 452.93, 198.29]</td>\n",
       "    </tr>\n",
       "  </tbody>\n",
       "</table>\n",
       "<p>51865 rows × 3 columns</p>\n",
       "</div>"
      ],
      "text/plain": [
       "         filename     class                               bbox\n",
       "0      006145.png       Car   [595.09, 177.15, 637.82, 217.56]\n",
       "1      006145.png       Car      [0.0, 185.06, 198.62, 277.08]\n",
       "2      006145.png       Car  [812.56, 169.04, 1023.51, 293.58]\n",
       "3      006145.png       Car    [764.98, 172.7, 947.97, 261.04]\n",
       "4      006145.png       Car   [708.54, 177.97, 852.27, 243.88]\n",
       "...           ...       ...                                ...\n",
       "51860  001633.png       Car      [0.0, 181.72, 246.84, 274.75]\n",
       "51861  001633.png       Car    [78.07, 181.92, 288.68, 255.62]\n",
       "51862  001633.png       Car   [149.73, 170.29, 321.46, 242.46]\n",
       "51863  001633.png       Car   [488.45, 179.28, 540.52, 217.39]\n",
       "51864  001633.png  DontCare    [376.3, 169.53, 452.93, 198.29]\n",
       "\n",
       "[51865 rows x 3 columns]"
      ]
     },
     "execution_count": 5,
     "metadata": {},
     "output_type": "execute_result"
    }
   ],
   "source": [
    "import pandas as pd\n",
    "import numpy as np\n",
    "\n",
    "df = pd.read_csv('kitti_annotations.csv')\n",
    "df"
   ]
  },
  {
   "cell_type": "code",
   "execution_count": 6,
   "metadata": {},
   "outputs": [],
   "source": [
    "np.random.seed(42)\n",
    "shuffled_indices = np.random.permutation(len(df))\n",
    "test_set_size = int(len(df) * 0.2)\n",
    "test_indices = shuffled_indices[:test_set_size]\n",
    "train_indices = shuffled_indices[test_set_size:]\n",
    "\n",
    "train_df = df.iloc[train_indices]\n",
    "val_df = df.iloc[test_indices]\n"
   ]
  },
  {
   "cell_type": "code",
   "execution_count": 7,
   "metadata": {},
   "outputs": [],
   "source": [
    "train_df.to_csv('train_annotations.csv', index=False)\n",
    "val_df.to_csv('val_annotations.csv', index=False)\n"
   ]
  },
  {
   "cell_type": "code",
   "execution_count": 13,
   "metadata": {},
   "outputs": [
    {
     "name": "stdout",
     "output_type": "stream",
     "text": [
      "41492\n",
      "41492\n"
     ]
    }
   ],
   "source": [
    "import torch\n",
    "from torch.utils.data import Dataset, DataLoader\n",
    "import cv2\n",
    "\n",
    "class KITTIDataset(Dataset):\n",
    "    def __init__(self, annotations_file, img_dir, transform=None):\n",
    "        self.img_labels = pd.read_csv(annotations_file)\n",
    "        self.img_dir = img_dir\n",
    "        self.transform = transform\n",
    "\n",
    "    def __len__(self):\n",
    "        return len(self.img_labels)\n",
    "\n",
    "    def __getitem__(self, idx):\n",
    "        img_path = os.path.join(self.img_dir, self.img_labels.iloc[idx, 0])\n",
    "        image = cv2.imread(img_path)\n",
    "        image = cv2.cvtColor(image, cv2.COLOR_BGR2RGB)\n",
    "        boxes = self.img_labels.iloc[idx, 2:6].astype('float').values.reshape(-1, 4)\n",
    "        labels = 10\n",
    "\n",
    "        target = {'boxes': torch.tensor(boxes, dtype=torch.float32), 'labels': labels}\n",
    "\n",
    "        if self.transform:\n",
    "            image = self.transform(image=image)['image']\n",
    "        \n",
    "        return image, target\n",
    "\n",
    "train_dataset = KITTIDataset('train_annotations.csv', 'KITTI/training/image_2')\n",
    "val_dataset = KITTIDataset('val_annotations.csv', 'KITTI/training/image_2')\n",
    "\n",
    "\n",
    "train_loader = DataLoader(train_dataset, batch_size=8, shuffle=True, num_workers=4, collate_fn=lambda x: tuple(zip(*x)))\n",
    "val_loader = DataLoader(val_dataset, batch_size=8, shuffle=False, num_workers=4, collate_fn=lambda x: tuple(zip(*x)))\n"
   ]
  },
  {
   "cell_type": "code",
   "execution_count": 14,
   "metadata": {},
   "outputs": [
    {
     "name": "stdout",
     "output_type": "stream",
     "text": [
      "10\n"
     ]
    }
   ],
   "source": [
    "import pandas as pd\n",
    "\n",
    "# Assuming the CSV file is in the same directory as your script\n",
    "df = pd.read_csv('kitti_annotations.csv', header=None)\n",
    "\n",
    "# The second column contains the classes\n",
    "classes = df[1]\n",
    "\n",
    "# Find the unique classes\n",
    "distinct_classes = classes.unique()\n",
    "\n",
    "# Print the number of distinct classes\n",
    "print(len(distinct_classes))"
   ]
  },
  {
   "cell_type": "code",
   "execution_count": 11,
   "metadata": {},
   "outputs": [
    {
     "name": "stderr",
     "output_type": "stream",
     "text": [
      "/Users/sazzad14/Documents/Stanford/CS-231N/portalcut/.venv/lib/python3.11/site-packages/torchvision/models/_utils.py:208: UserWarning: The parameter 'pretrained' is deprecated since 0.13 and may be removed in the future, please use 'weights' instead.\n",
      "  warnings.warn(\n",
      "/Users/sazzad14/Documents/Stanford/CS-231N/portalcut/.venv/lib/python3.11/site-packages/torchvision/models/_utils.py:223: UserWarning: Arguments other than a weight enum or `None` for 'weights' are deprecated since 0.13 and may be removed in the future. The current behavior is equivalent to passing `weights=FasterRCNN_ResNet50_FPN_Weights.COCO_V1`. You can also use `weights=FasterRCNN_ResNet50_FPN_Weights.DEFAULT` to get the most up-to-date weights.\n",
      "  warnings.warn(msg)\n",
      "Downloading: \"https://download.pytorch.org/models/fasterrcnn_resnet50_fpn_coco-258fb6c6.pth\" to /Users/sazzad14/.cache/torch/hub/checkpoints/fasterrcnn_resnet50_fpn_coco-258fb6c6.pth\n",
      "100%|██████████| 160M/160M [00:06<00:00, 24.7MB/s] \n"
     ]
    }
   ],
   "source": [
    "import torchvision\n",
    "from torchvision.models.detection.faster_rcnn import FastRCNNPredictor\n",
    "\n",
    "def get_model(num_classes):\n",
    "    model = torchvision.models.detection.fasterrcnn_resnet50_fpn(pretrained=True)\n",
    "    in_features = model.roi_heads.box_predictor.cls_score.in_features\n",
    "    model.roi_heads.box_predictor = FastRCNNPredictor(in_features, num_classes)\n",
    "    return model\n",
    "\n",
    "model = get_model(num_classes=10) \n"
   ]
  },
  {
   "cell_type": "code",
   "execution_count": null,
   "metadata": {},
   "outputs": [],
   "source": []
  }
 ],
 "metadata": {
  "kernelspec": {
   "display_name": ".venv",
   "language": "python",
   "name": "python3"
  },
  "language_info": {
   "codemirror_mode": {
    "name": "ipython",
    "version": 3
   },
   "file_extension": ".py",
   "mimetype": "text/x-python",
   "name": "python",
   "nbconvert_exporter": "python",
   "pygments_lexer": "ipython3",
   "version": "3.11.7"
  }
 },
 "nbformat": 4,
 "nbformat_minor": 2
}
